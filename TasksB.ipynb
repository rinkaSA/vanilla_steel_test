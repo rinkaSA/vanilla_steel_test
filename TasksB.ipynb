{
 "cells": [
  {
   "cell_type": "code",
   "execution_count": 1,
   "id": "452c7e8a",
   "metadata": {},
   "outputs": [],
   "source": [
    "import pandas as pd\n",
    "import matplotlib.pyplot as plt\n",
    "import numpy as np\n",
    "import re\n"
   ]
  },
  {
   "cell_type": "code",
   "execution_count": 2,
   "id": "d15887c9",
   "metadata": {},
   "outputs": [],
   "source": [
    "df1 = pd.read_csv(\"/Users/irinavergunova/llm_examples/vanilla_steel_test/task_2/rfq.csv\")\n",
    "df2 = pd.read_csv(\"/Users/irinavergunova/llm_examples/vanilla_steel_test/task_2/reference_properties.tsv\", sep='\\t')\n",
    "\n"
   ]
  },
  {
   "cell_type": "markdown",
   "id": "8a0e7ed3",
   "metadata": {},
   "source": [
    "# Task B.1\n",
    "\n",
    "## Step 1. Normalize grade keys (case, suffixes, aliases)."
   ]
  },
  {
   "cell_type": "markdown",
   "id": "b366ffdd",
   "metadata": {},
   "source": [
    "#### Some exploration & case sensitivity"
   ]
  },
  {
   "cell_type": "code",
   "execution_count": 3,
   "id": "da9fc81b",
   "metadata": {},
   "outputs": [
    {
     "name": "stdout",
     "output_type": "stream",
     "text": [
      "<class 'pandas.core.frame.DataFrame'>\n",
      "RangeIndex: 1000 entries, 0 to 999\n",
      "Data columns (total 25 columns):\n",
      " #   Column                Non-Null Count  Dtype  \n",
      "---  ------                --------------  -----  \n",
      " 0   id                    1000 non-null   object \n",
      " 1   grade                 941 non-null    object \n",
      " 2   grade_suffix          0 non-null      float64\n",
      " 3   coating               318 non-null    object \n",
      " 4   finish                665 non-null    object \n",
      " 5   surface_type          135 non-null    object \n",
      " 6   surface_protection    287 non-null    object \n",
      " 7   form                  927 non-null    object \n",
      " 8   thickness_min         833 non-null    float64\n",
      " 9   thickness_max         834 non-null    float64\n",
      " 10  width_min             539 non-null    float64\n",
      " 11  width_max             652 non-null    float64\n",
      " 12  length_min            131 non-null    float64\n",
      " 13  height_min            132 non-null    float64\n",
      " 14  height_max            2 non-null      float64\n",
      " 15  weight_min            393 non-null    float64\n",
      " 16  weight_max            631 non-null    float64\n",
      " 17  inner_diameter_min    177 non-null    float64\n",
      " 18  inner_diameter_max    178 non-null    float64\n",
      " 19  outer_diameter_min    23 non-null     float64\n",
      " 20  outer_diameter_max    20 non-null     float64\n",
      " 21  yield_strength_min    36 non-null     float64\n",
      " 22  yield_strength_max    16 non-null     float64\n",
      " 23  tensile_strength_min  49 non-null     float64\n",
      " 24  tensile_strength_max  51 non-null     float64\n",
      "dtypes: float64(18), object(7)\n",
      "memory usage: 195.4+ KB\n"
     ]
    }
   ],
   "source": [
    "df1.info()"
   ]
  },
  {
   "cell_type": "code",
   "execution_count": 4,
   "id": "efd732d9",
   "metadata": {},
   "outputs": [
    {
     "name": "stdout",
     "output_type": "stream",
     "text": [
      "<class 'pandas.core.frame.DataFrame'>\n",
      "RangeIndex: 175 entries, 0 to 174\n",
      "Data columns (total 34 columns):\n",
      " #   Column                             Non-Null Count  Dtype  \n",
      "---  ------                             --------------  -----  \n",
      " 0   Grade/Material                     175 non-null    object \n",
      " 1   UNS_No                             0 non-null      float64\n",
      " 2   Steel_No                           0 non-null      float64\n",
      " 3   Standards                          175 non-null    object \n",
      " 4   Carbon (C)                         175 non-null    object \n",
      " 5   Manganese (Mn)                     175 non-null    object \n",
      " 6   Silicon (Si)                       134 non-null    object \n",
      " 7   Sulfur (S)                         163 non-null    object \n",
      " 8   Phosphorus (P)                     163 non-null    object \n",
      " 9   Chromium (Cr)                      42 non-null     object \n",
      " 10  Nickel (Ni)                        16 non-null     object \n",
      " 11  Molybdenum (Mo)                    30 non-null     object \n",
      " 12  Vanadium (V)                       25 non-null     object \n",
      " 13  Tungsten (W)                       0 non-null      float64\n",
      " 14  Cobalt (Co)                        0 non-null      float64\n",
      " 15  Copper (Cu)                        1 non-null      object \n",
      " 16  Aluminum (Al)                      94 non-null     object \n",
      " 17  Titanium (Ti)                      29 non-null     object \n",
      " 18  Niobium (Nb)                       26 non-null     object \n",
      " 19  Boron (B)                          8 non-null      object \n",
      " 20  Nitrogen (N)                       17 non-null     object \n",
      " 21  Tensile strength (Rm)              175 non-null    object \n",
      " 22  Yield strength (Re or Rp0.2)       164 non-null    object \n",
      " 23  Elongation (A%)                    154 non-null    object \n",
      " 24  Reduction of area (Z%)             0 non-null      float64\n",
      " 25  Hardness (HB, HV, HRC)             33 non-null     object \n",
      " 26  Impact toughness (Charpy V-notch)  16 non-null     object \n",
      " 27  Fatigue limit                      0 non-null      float64\n",
      " 28  Creep resistance                   0 non-null      float64\n",
      " 29  Source_Pages                       175 non-null    object \n",
      " 30  Application                        175 non-null    object \n",
      " 31  Category                           175 non-null    object \n",
      " 32  Nb + V + Ti (Others)               8 non-null      object \n",
      " 33  Coating                            20 non-null     object \n",
      "dtypes: float64(7), object(27)\n",
      "memory usage: 46.6+ KB\n"
     ]
    }
   ],
   "source": [
    "df2.info()"
   ]
  },
  {
   "cell_type": "markdown",
   "id": "a7b3d382",
   "metadata": {},
   "source": [
    "Looking into \"grade\" and \"grade_suffix\" columns of df1 and \"Grade/Material\" of the df2.\n"
   ]
  },
  {
   "cell_type": "code",
   "execution_count": 5,
   "id": "332eb26e",
   "metadata": {},
   "outputs": [
    {
     "data": {
      "text/plain": [
       "(0,\n",
       " grade             59\n",
       " grade_suffix    1000\n",
       " dtype: int64)"
      ]
     },
     "execution_count": 5,
     "metadata": {},
     "output_type": "execute_result"
    }
   ],
   "source": [
    "\n",
    "df2[\"Grade/Material\"].isna().sum(), df1[[\"grade\", \"grade_suffix\"]].isna().sum()\n"
   ]
  },
  {
   "cell_type": "code",
   "execution_count": 6,
   "id": "cd645a6e",
   "metadata": {},
   "outputs": [
    {
     "data": {
      "text/plain": [
       "(array(['S235JR', 'S275JR', 'S355JR', 'S420M', 'S460M', 'S500MC', 'S700MC',\n",
       "        'S960MC', 'DC01', 'DC03', 'DC04', 'DD11', 'DX51D', 'DX52D',\n",
       "        'DX53D', 'S250GD', 'S350GD', 'DP600', 'DP780', 'DP980', 'TRIP780',\n",
       "        'CP800', 'HC420LA', 'CR240LA', 'Hardox 400', 'Hardox 500',\n",
       "        '1.2379', '1.2714', 'DC06', 'DD13', 'DD14', 'DX54', 'S55GD',\n",
       "        'S355', 'HC260', 'HC700', 'HC660XD', 'CR3', 'CR240', 'CR340',\n",
       "        'CR340LA', '1.2083', '46SiCrMo6', '304', '316', '321', '430',\n",
       "        '410', '420', '17-4PH', '2205', '1.2343', '42CrMo4', '42CrMo4+QT',\n",
       "        '42CrMoS4', '34CrNiMo6+QT', '22MnB5', '26MnB5', '26Mnb5', '34MnB5',\n",
       "        'C45+C', 'C45R', 'C50', 'C55', 'C60', 'C100', 'CR210IF', 'CR180BH',\n",
       "        'CR210', 'CR300LA', 'CR380LA', 'CR420LA', 'CR460', 'CR460LA',\n",
       "        'CR440Y780T DP', 'CR440Y780T-DP', 'CR330Y590T', 'CR440Y780T',\n",
       "        '11SMn30', '16MnCrS5', '16Mo3', 'CR4', 'S235', 'S275', 'S355J2',\n",
       "        'S355J2+N', 'S420', 'S460', 'S420MC', 'S460MC', 'S550MC', 'S600MC',\n",
       "        'S650MC', 'S220GD', 'S280GD', 'S320GD', 'S450GD', 'S550GD', 'DC02',\n",
       "        'DC05', 'DD12', 'P265GH', 'DP800', 'Hardox 450', 'S235JRG2',\n",
       "        'S280', 'S350', 'S450', 'S500', 'S550', 'S260MC', 'S315MC',\n",
       "        'S320MC', 'S355MC', 'S380MC', 'S350G', 'DX51', 'DX52', 'DX53',\n",
       "        'DX54D', 'DX55', 'DX56', 'DX56D', 'DC01AM', 'DC01ED', 'DC01EK',\n",
       "        'DC03ED', 'DC03EK', 'EK', 'HC180', 'HC220B', 'HC260LA', 'HC260LAD',\n",
       "        'HC260Y', 'HC300', 'HC340', 'HC340LA', 'HC380LA', 'HC380La',\n",
       "        'HC500LA', 'HC550LA', '95Cr1', 'Cf53', 'C1000S', 'St22', 'A11',\n",
       "        'A182 F22', 'IPE', 'IPE330', 'HEA', 'HEB', 'IPN', 'H380LAD',\n",
       "        'HE320D', 'HR550LA-HD50G50G', 'HCT590X', 'HCT600X', 'HCT780X',\n",
       "        'HCT980XG', 'CR590Y980T-DP', 'CR700Y980T-DP', 'DX', 'MC',\n",
       "        'S355J2C', 'S355K2', 'S355K2+N', 'X', 'HX180YD', 'HX260LAD',\n",
       "        'HX300', 'HX300LAD', 'HX340LAD', 'HX380', 'HX420', 'HX420LAD'],\n",
       "       dtype=object),\n",
       " 175)"
      ]
     },
     "execution_count": 6,
     "metadata": {},
     "output_type": "execute_result"
    }
   ],
   "source": [
    "df2['Grade/Material'].dropna().unique(), df2['Grade/Material'].nunique()"
   ]
  },
  {
   "cell_type": "code",
   "execution_count": null,
   "id": "40092e72",
   "metadata": {},
   "outputs": [],
   "source": []
  },
  {
   "cell_type": "code",
   "execution_count": 7,
   "id": "5cacbadb",
   "metadata": {},
   "outputs": [
    {
     "data": {
      "text/plain": [
       "(array(['S700MC', 'S250GD', 'DX51D', 'S235', 'S355MC', 'DC01', 'S500MC',\n",
       "        'S235JR', 'S220GD', 'DD11', 'HC420LA', 'DC04', 'DC03', 'S420',\n",
       "        'S500', 'DX51', 'S320GD', 'S420MC', 'S355JR', 'S600MC', 'S355J2+N',\n",
       "        'S355', 'S460', 'S355J2C', 'CR460LA', 'CR420LA', 'S550GD',\n",
       "        'S460MC', '22MnB5', 'HC260LA', 'S320MC', 'DX54D', 'S315MC',\n",
       "        'S235JRG2', 'HX180YD', 'HE320D', 'C45+C', 'C50', 'C55', 'C60',\n",
       "        'Cf53', 'C45R', '42CrMoS4', '1.2343', 'DX56D', 'S450', 'S350',\n",
       "        'CR240LA', '46SiCrMo6', '42CrMo4', '16Mo3', 'CR210', 'CR240',\n",
       "        'S275JR', 'HX420LAD', 'S350GD', 'CR380LA', 'DC06', 'HC500LA',\n",
       "        'HC550LA', 'S650MC', 'Hardox 450', 'DX54', 'DX53', 'HX300LAD',\n",
       "        'HC260', 'S550MC', 'DD13', 'DD12', 'P265GH', 'S355J2', 'DD14',\n",
       "        'CR340', 'HC260LAD', 'HC340LA', 'C1000S', 'S55GD', 'S280',\n",
       "        'HX340LAD', 'CR210IF', 'HC220B', 'CR300LA', 'HX380', 'HX420',\n",
       "        'HX300', '34CrNiMo6+QT', '11SMn30', 'DP780', 'CR180BH', '26Mnb5',\n",
       "        'HC380La', 'MC', 'HX260LAD', 'HCT980XG', 'S280GD', 'CR3',\n",
       "        '16MnCrS5', 'EK', 'CR440Y780T-DP', 'DC02', '34MnB5', '26MnB5',\n",
       "        'DC05', 'DC03ED', 'DC03EK', 'DC01ED', 'DC01EK', 'S355K2+N',\n",
       "        'S380MC', 'A182 F22', 'S275', 'CR4', 'S450GD', 'HC700', 'HC380LA',\n",
       "        'HCT590X', 'DP600', 'HC660XD', 'St22', 'HCT600X', 'HCT780X',\n",
       "        'IPE330', 'HEA', 'HEB', 'IPE', 'IPN', 'DP800', 'CR440Y780T',\n",
       "        'CR330Y590T', 'HR550LA-HD50G50G', 'CR440Y780T DP', 'DX', 'DX52D',\n",
       "        'CR700Y980T-DP', 'S260MC', 'CR460', 'S550', 'X', '1.2083',\n",
       "        '42CrMo4+QT', '304', 'HC180', 'HC300', 'DX53D', 'S350G', 'DX52',\n",
       "        'DX55', 'DX56', 'HC260Y', 'H380LAD', '95Cr1', 'C100', 'HC340',\n",
       "        'A11', 'DC01AM', 'CR340LA', 'S355K2', 'CR590Y980T-DP'],\n",
       "       dtype=object),\n",
       " 158)"
      ]
     },
     "execution_count": 7,
     "metadata": {},
     "output_type": "execute_result"
    }
   ],
   "source": [
    "df1['grade'].dropna().unique(), df1['grade'].nunique()"
   ]
  },
  {
   "cell_type": "markdown",
   "id": "a97885c0",
   "metadata": {},
   "source": [
    "from the first glance we see similar naming convention, the amount of unique entities differ - 175 and 158.. "
   ]
  },
  {
   "cell_type": "code",
   "execution_count": 8,
   "id": "c95e033b",
   "metadata": {},
   "outputs": [
    {
     "name": "stdout",
     "output_type": "stream",
     "text": [
      "Original unique count: 158\n",
      "Lowercase unique count: 156\n",
      "Original unique count: 175\n",
      "Lowercase unique count: 173\n"
     ]
    }
   ],
   "source": [
    "lower_case_grades_df1 = df1['grade'].str.lower().dropna().unique()\n",
    "orig_case_grades_df1 = df1['grade'].dropna().unique()\n",
    "print(f\"Original unique count: {len(orig_case_grades_df1)}\")\n",
    "print(f\"Lowercase unique count: {len(lower_case_grades_df1)}\")\n",
    "lower_case_grades_df2 = df2['Grade/Material'].str.lower().dropna().unique()\n",
    "orig_case_grades_df2 = df2['Grade/Material'].dropna().unique()\n",
    "print(f\"Original unique count: {len(orig_case_grades_df2)}\")\n",
    "print(f\"Lowercase unique count: {len(lower_case_grades_df2)}\")"
   ]
  },
  {
   "cell_type": "markdown",
   "id": "0ae70b8d",
   "metadata": {},
   "source": [
    "Some uppercase/lower case similar entries exist, have a look at it:"
   ]
  },
  {
   "cell_type": "code",
   "execution_count": 9,
   "id": "db61d656",
   "metadata": {},
   "outputs": [
    {
     "name": "stdout",
     "output_type": "stream",
     "text": [
      "26mnb5: ['26MnB5', '26Mnb5']\n",
      "hc380la: ['HC380LA', 'HC380La']\n",
      "---\n",
      "26mnb5: ['26MnB5', '26Mnb5']\n",
      "hc380la: ['HC380LA', 'HC380La']\n"
     ]
    }
   ],
   "source": [
    "df1_case_map = {}\n",
    "for grade in df1['grade'].dropna():\n",
    "    df1_case_map.setdefault(grade.lower(), set()).add(grade)\n",
    "for lowercase, variants in df1_case_map.items():\n",
    "    if len(variants) > 1:\n",
    "        print(f\"{lowercase}: {sorted(variants)}\")\n",
    "print(\"---\")\n",
    "df2_case_map = {}\n",
    "for grade in df2['Grade/Material'].dropna():\n",
    "    df2_case_map.setdefault(grade.lower(), set()).add(grade)\n",
    "for lowercase, variants in df2_case_map.items():\n",
    "    if len(variants) > 1:\n",
    "        print(f\"{lowercase}: {sorted(variants)}\")"
   ]
  },
  {
   "cell_type": "code",
   "execution_count": 10,
   "id": "53a08305",
   "metadata": {},
   "outputs": [],
   "source": [
    "for k, v in df2_case_map.items():\n",
    "    df2.loc[df2[\"Grade/Material\"].str.lower() == k, \"Grade/Material\"] = list(v)[0]\n",
    "\n",
    "for k, v in df1_case_map.items():\n",
    "    df1.loc[df1[\"grade\"].str.lower() == k, \"grade\"] = list(v)[0]"
   ]
  },
  {
   "cell_type": "markdown",
   "id": "5bd23779",
   "metadata": {},
   "source": [
    "// run one cell above again for check , should be empty\n",
    "This way we dont cast everything to upper case (some names are not following this uppercase convention fully (like Hardox 500), but targeting presicely)\n",
    "\n",
    "Also check for entries where multiple case variants exist across both dataframes without merging - empty, we are good to go.\n"
   ]
  },
  {
   "cell_type": "code",
   "execution_count": 11,
   "id": "8aae6bf2",
   "metadata": {},
   "outputs": [],
   "source": [
    "df1_2_case_map = {}\n",
    "for grade in df1['grade'].dropna():\n",
    "    df1_case_map.setdefault(grade.lower(), set()).add(grade)\n",
    "for grade in df2['Grade/Material'].dropna():\n",
    "    df1_2_case_map.setdefault(grade.lower(), set()).add(grade)\n",
    "for lowercase, variants in df1_2_case_map.items():\n",
    "    if len(variants) > 1:\n",
    "        print(f\"{lowercase}: {sorted(variants)}\")"
   ]
  },
  {
   "cell_type": "markdown",
   "id": "57dcd34b",
   "metadata": {},
   "source": [
    "#### Base and suffix extraction\n"
   ]
  },
  {
   "cell_type": "markdown",
   "id": "b288b115",
   "metadata": {},
   "source": [
    "What I can observe regarding naming styles from unique graddes for both dfs:\n",
    "- like HCT980XG - /letters/_/numbbers/letters -> last letters could be extracted as suffixes\n",
    "- hyphen or + can be used as suffix separator for long entries like CR700Y980T-DP, HR550LA-HD50G50G\n",
    "- CR440Y780T DP -> space as base suffix separator\n",
    "- entries with more that case 1 letters/numbers combinations like CR700Y980T are kept as base\n",
    "- single letters (X), just numbers (1.2083), and multiword Hardox 450 -> no suffix, just base"
   ]
  },
  {
   "cell_type": "code",
   "execution_count": 12,
   "id": "bba6bd09",
   "metadata": {},
   "outputs": [],
   "source": [
    "KEEP_WHOLE_REGEXES = [\n",
    "    re.compile(r'^CR\\d+Y\\d+T$'),  # CR440Y780T, CR330Y590T, CR700Y980T\n",
    "]\n",
    "SHORT_TAG = re.compile(r'^[A-Z]{1,3}$')  # DP, X, XD, etc.\n",
    "TRAILING_COMPACT = re.compile(r'^([A-Z]+[0-9]+)([A-Z]{1,3})$')  # HCT980XG -> HCT980 + XG\n",
    "DECIMAL_ONLY = re.compile(r'^\\d+(?:\\.\\d+)?$')\n",
    "\n",
    "def normalize(s: str) -> str:\n",
    "    s = s.strip()\n",
    "    s = re.sub(r'\\s+', ' ', s) # collapse multiple whitespaces\n",
    "    return s\n",
    "\n",
    "def keep_whole(s: str) -> bool:\n",
    "    return any(pat.match(s) for pat in KEEP_WHOLE_REGEXES)\n",
    "\n",
    "def split_base_suffix(raw: str):\n",
    "    if raw is None or (isinstance(raw, float) and pd.isna(raw)):\n",
    "        return None, None, None\n",
    "    g = normalize(str(raw))\n",
    "\n",
    "    # hyphen rule and \"+\"\n",
    "    if '-' in g or '+' in g:\n",
    "        left, right = re.split(r'[-+]', g, 1)\n",
    "        return g, left.strip(), re.sub(r'[^A-Z0-9]+', '', right.strip())\n",
    "\n",
    "    # space-suffix rule\n",
    "    if ' ' in g:\n",
    "        parts = g.split(' ')\n",
    "        tail = parts[-1]\n",
    "        if SHORT_TAG.match(tail):\n",
    "            base = ' '.join(parts[:-1]).strip()\n",
    "            return g, base, tail\n",
    "        # otherwise treat full as base ('Hardox 450')\n",
    "        return g, g, ''\n",
    "    # standalones to keep whole\n",
    "    if g == 'X' or DECIMAL_ONLY.match(g):\n",
    "        return g, g, ''\n",
    "    if keep_whole(g):\n",
    "        return g, g, ''\n",
    "    # compact trailing letters (no separator)\n",
    "    m = TRAILING_COMPACT.match(g)\n",
    "    if m:\n",
    "        base_candidate, suffix_candidate = m.group(1), m.group(2)\n",
    "        # extra safety: CR700Y980T -> T is no suffix\n",
    "        if not keep_whole(base_candidate):\n",
    "            return g, base_candidate, suffix_candidate\n",
    "    # default, whole as base, no suffix\n",
    "    return g, g, ''\n",
    "\n",
    "def add_normalized_columns(df: pd.DataFrame, source_col: str, base_col: str, suffix_col: str, norm_col: str):\n",
    "    out = df[source_col].apply(split_base_suffix)\n",
    "    df[norm_col]   = out.apply(lambda t: t[0])\n",
    "    df[base_col]   = out.apply(lambda t: t[1])\n",
    "    df[suffix_col] = out.apply(lambda t: t[2])\n",
    "    return df\n",
    "\n",
    "df1 = add_normalized_columns(df1, source_col=\"grade\",\n",
    "                             base_col=\"grade_base\", suffix_col=\"grade_suffix\",\n",
    "                             norm_col=\"grade_norm\")\n",
    "\n",
    "df2 = add_normalized_columns(df2, source_col=\"Grade/Material\",\n",
    "                             base_col=\"grade_base\", suffix_col=\"grade_suffix\",\n",
    "                             norm_col=\"grade_norm\")\n"
   ]
  },
  {
   "cell_type": "code",
   "execution_count": 13,
   "id": "2690c1b5",
   "metadata": {},
   "outputs": [
    {
     "data": {
      "text/plain": [
       "(array(['S700', 'S250', 'DX51', 'S235', 'S355', 'DC01', 'S500', 'S220',\n",
       "        'DD11', 'HC420', 'DC04', 'DC03', 'S420', 'S320', 'S600', 'S355J2',\n",
       "        'S460', 'S355J2C', 'CR460', 'CR420', 'S550', '22MnB5', 'HC260',\n",
       "        'DX54', 'S315', 'S235JRG2', 'HX180', 'HE320', 'C45', 'C50', 'C55',\n",
       "        'C60', 'Cf53', '42CrMoS4', '1.2343', 'DX56', 'S450', 'S350',\n",
       "        'CR240', '46SiCrMo6', '42CrMo4', '16Mo3', 'CR210', 'S275', 'HX420',\n",
       "        'CR380', 'DC06', 'HC500', 'HC550', 'S650', 'Hardox 450', 'DX53',\n",
       "        'HX300', 'DD13', 'DD12', 'P265', 'DD14', 'CR340', 'HC340', 'C1000',\n",
       "        'S55', 'S280', 'HX340', 'HC220', 'CR300', 'HX380', '34CrNiMo6',\n",
       "        '11SMn30', 'DP780', 'CR180', '26MnB5', 'HC380La', 'MC', 'HX260',\n",
       "        'HCT980', 'CR3', '16MnCrS5', 'EK', 'CR440Y780T', 'DC02', '34MnB5',\n",
       "        'DC05', 'S355K2', 'S380', 'A182 F22', 'CR4', 'HC700', 'HCT590',\n",
       "        'DP600', 'HC660', 'St22', 'HCT600', 'HCT780', 'IPE330', 'HEA',\n",
       "        'HEB', 'IPE', 'IPN', 'DP800', 'CR330Y590T', 'HR550LA', 'DX',\n",
       "        'DX52', 'CR700Y980T', 'S260', 'X', '1.2083', '304', 'HC180',\n",
       "        'HC300', 'DX55', 'H380', '95Cr1', 'C100', 'A11', 'CR590Y980T'],\n",
       "       dtype=object),\n",
       " 116,\n",
       " array(['MC', 'GD', 'D', '', 'JR', 'LA', 'N', 'YD', 'C', 'R', 'LAD', 'GH',\n",
       "        'S', 'IF', 'B', 'QT', 'BH', 'XG', 'DP', 'ED', 'EK', 'X', 'XD',\n",
       "        'HD50G50G', 'G', 'Y', 'AM'], dtype=object),\n",
       " 27)"
      ]
     },
     "execution_count": 13,
     "metadata": {},
     "output_type": "execute_result"
    }
   ],
   "source": [
    "df1['grade_base'].dropna().unique(), df1['grade_base'].nunique(), df1['grade_suffix'].dropna().unique(), df1['grade_suffix'].nunique()"
   ]
  },
  {
   "cell_type": "code",
   "execution_count": 14,
   "id": "b99a3a22",
   "metadata": {},
   "outputs": [
    {
     "data": {
      "text/plain": [
       "(array(['S235', 'S275', 'S355', 'S420', 'S460', 'S500', 'S700', 'S960',\n",
       "        'DC01', 'DC03', 'DC04', 'DD11', 'DX51', 'DX52', 'DX53', 'S250',\n",
       "        'S350', 'DP600', 'DP780', 'DP980', 'TRIP780', 'CP800', 'HC420',\n",
       "        'CR240', 'Hardox 400', 'Hardox 500', '1.2379', '1.2714', 'DC06',\n",
       "        'DD13', 'DD14', 'DX54', 'S55', 'HC260', 'HC700', 'HC660', 'CR3',\n",
       "        'CR340', '1.2083', '46SiCrMo6', '304', '316', '321', '430', '410',\n",
       "        '420', '17', '2205', '1.2343', '42CrMo4', '42CrMoS4', '34CrNiMo6',\n",
       "        '22MnB5', '26MnB5', '34MnB5', 'C45', 'C50', 'C55', 'C60', 'C100',\n",
       "        'CR210', 'CR180', 'CR300', 'CR380', 'CR420', 'CR460', 'CR440Y780T',\n",
       "        'CR330Y590T', '11SMn30', '16MnCrS5', '16Mo3', 'CR4', 'S355J2',\n",
       "        'S550', 'S600', 'S650', 'S220', 'S280', 'S320', 'S450', 'DC02',\n",
       "        'DC05', 'DD12', 'P265', 'DP800', 'Hardox 450', 'S235JRG2', 'S260',\n",
       "        'S315', 'S380', 'DX55', 'DX56', 'EK', 'HC180', 'HC220', 'HC300',\n",
       "        'HC340', 'HC380La', 'HC500', 'HC550', '95Cr1', 'Cf53', 'C1000',\n",
       "        'St22', 'A11', 'A182 F22', 'IPE', 'IPE330', 'HEA', 'HEB', 'IPN',\n",
       "        'H380', 'HE320', 'HR550LA', 'HCT590', 'HCT600', 'HCT780', 'HCT980',\n",
       "        'CR590Y980T', 'CR700Y980T', 'DX', 'MC', 'S355J2C', 'S355K2', 'X',\n",
       "        'HX180', 'HX260', 'HX300', 'HX340', 'HX380', 'HX420'], dtype=object),\n",
       " 131,\n",
       " array(['JR', 'M', 'MC', '', 'D', 'GD', 'LA', 'XD', '4PH', 'QT', 'C', 'R',\n",
       "        'IF', 'BH', 'DP', 'N', 'GH', 'G', 'AM', 'ED', 'EK', 'B', 'LAD',\n",
       "        'Y', 'S', 'HD50G50G', 'X', 'XG', 'YD'], dtype=object),\n",
       " 29)"
      ]
     },
     "execution_count": 14,
     "metadata": {},
     "output_type": "execute_result"
    }
   ],
   "source": [
    "df2['grade_base'].dropna().unique(), df2['grade_base'].nunique(), df2['grade_suffix'].dropna().unique(), df2['grade_suffix'].nunique()"
   ]
  },
  {
   "cell_type": "code",
   "execution_count": 15,
   "id": "f27620a6",
   "metadata": {},
   "outputs": [],
   "source": [
    "df1.drop(columns=[\"grade_norm\"], inplace=True)\n",
    "df2.drop(columns=[\"grade_norm\"], inplace=True)\n"
   ]
  },
  {
   "cell_type": "markdown",
   "id": "a07ce5e5",
   "metadata": {},
   "source": [
    "#### Parse range strings into numeric min/max (and optionally mid)"
   ]
  },
  {
   "cell_type": "code",
   "execution_count": 16,
   "id": "551490bb",
   "metadata": {},
   "outputs": [
    {
     "data": {
      "text/html": [
       "<div>\n",
       "<style scoped>\n",
       "    .dataframe tbody tr th:only-of-type {\n",
       "        vertical-align: middle;\n",
       "    }\n",
       "\n",
       "    .dataframe tbody tr th {\n",
       "        vertical-align: top;\n",
       "    }\n",
       "\n",
       "    .dataframe thead th {\n",
       "        text-align: right;\n",
       "    }\n",
       "</style>\n",
       "<table border=\"1\" class=\"dataframe\">\n",
       "  <thead>\n",
       "    <tr style=\"text-align: right;\">\n",
       "      <th></th>\n",
       "      <th>Grade/Material</th>\n",
       "      <th>UNS_No</th>\n",
       "      <th>Steel_No</th>\n",
       "      <th>Standards</th>\n",
       "      <th>Carbon (C)</th>\n",
       "      <th>Manganese (Mn)</th>\n",
       "      <th>Silicon (Si)</th>\n",
       "      <th>Sulfur (S)</th>\n",
       "      <th>Phosphorus (P)</th>\n",
       "      <th>Chromium (Cr)</th>\n",
       "      <th>...</th>\n",
       "      <th>Impact toughness (Charpy V-notch)</th>\n",
       "      <th>Fatigue limit</th>\n",
       "      <th>Creep resistance</th>\n",
       "      <th>Source_Pages</th>\n",
       "      <th>Application</th>\n",
       "      <th>Category</th>\n",
       "      <th>Nb + V + Ti (Others)</th>\n",
       "      <th>Coating</th>\n",
       "      <th>grade_base</th>\n",
       "      <th>grade_suffix</th>\n",
       "    </tr>\n",
       "  </thead>\n",
       "  <tbody>\n",
       "    <tr>\n",
       "      <th>0</th>\n",
       "      <td>S235JR</td>\n",
       "      <td>NaN</td>\n",
       "      <td>NaN</td>\n",
       "      <td>EN 10025-2:2019</td>\n",
       "      <td>≤0.17</td>\n",
       "      <td>≤1.40</td>\n",
       "      <td>≤0.40</td>\n",
       "      <td>≤0.035</td>\n",
       "      <td>≤0.035</td>\n",
       "      <td>NaN</td>\n",
       "      <td>...</td>\n",
       "      <td>27J at 20°C</td>\n",
       "      <td>NaN</td>\n",
       "      <td>NaN</td>\n",
       "      <td>Standard Specifications</td>\n",
       "      <td>General structural steels</td>\n",
       "      <td>Structural Steel</td>\n",
       "      <td>NaN</td>\n",
       "      <td>NaN</td>\n",
       "      <td>S235</td>\n",
       "      <td>JR</td>\n",
       "    </tr>\n",
       "    <tr>\n",
       "      <th>1</th>\n",
       "      <td>S275JR</td>\n",
       "      <td>NaN</td>\n",
       "      <td>NaN</td>\n",
       "      <td>EN 10025-2:2019</td>\n",
       "      <td>≤0.21</td>\n",
       "      <td>≤1.50</td>\n",
       "      <td>≤0.40</td>\n",
       "      <td>≤0.035</td>\n",
       "      <td>≤0.035</td>\n",
       "      <td>NaN</td>\n",
       "      <td>...</td>\n",
       "      <td>27J at 20°C</td>\n",
       "      <td>NaN</td>\n",
       "      <td>NaN</td>\n",
       "      <td>Standard Specifications</td>\n",
       "      <td>General structural steels</td>\n",
       "      <td>Structural Steel</td>\n",
       "      <td>NaN</td>\n",
       "      <td>NaN</td>\n",
       "      <td>S275</td>\n",
       "      <td>JR</td>\n",
       "    </tr>\n",
       "    <tr>\n",
       "      <th>2</th>\n",
       "      <td>S355JR</td>\n",
       "      <td>NaN</td>\n",
       "      <td>NaN</td>\n",
       "      <td>EN 10025-2:2019</td>\n",
       "      <td>≤0.24</td>\n",
       "      <td>≤1.60</td>\n",
       "      <td>≤0.55</td>\n",
       "      <td>≤0.035</td>\n",
       "      <td>≤0.035</td>\n",
       "      <td>NaN</td>\n",
       "      <td>...</td>\n",
       "      <td>27J at 20°C</td>\n",
       "      <td>NaN</td>\n",
       "      <td>NaN</td>\n",
       "      <td>Standard Specifications</td>\n",
       "      <td>General structural steels</td>\n",
       "      <td>Structural Steel</td>\n",
       "      <td>NaN</td>\n",
       "      <td>NaN</td>\n",
       "      <td>S355</td>\n",
       "      <td>JR</td>\n",
       "    </tr>\n",
       "    <tr>\n",
       "      <th>3</th>\n",
       "      <td>S420M</td>\n",
       "      <td>NaN</td>\n",
       "      <td>NaN</td>\n",
       "      <td>EN 10025-3:2019</td>\n",
       "      <td>≤0.20</td>\n",
       "      <td>1.00-1.70</td>\n",
       "      <td>≤0.50</td>\n",
       "      <td>≤0.025</td>\n",
       "      <td>≤0.030</td>\n",
       "      <td>≤0.30</td>\n",
       "      <td>...</td>\n",
       "      <td>27J at -20°C</td>\n",
       "      <td>NaN</td>\n",
       "      <td>NaN</td>\n",
       "      <td>Standard Specifications</td>\n",
       "      <td>Thermomechanically rolled steels</td>\n",
       "      <td>High Strength Steel</td>\n",
       "      <td>NaN</td>\n",
       "      <td>NaN</td>\n",
       "      <td>S420</td>\n",
       "      <td>M</td>\n",
       "    </tr>\n",
       "    <tr>\n",
       "      <th>4</th>\n",
       "      <td>S460M</td>\n",
       "      <td>NaN</td>\n",
       "      <td>NaN</td>\n",
       "      <td>EN 10025-3:2019</td>\n",
       "      <td>≤0.20</td>\n",
       "      <td>1.00-1.70</td>\n",
       "      <td>≤0.50</td>\n",
       "      <td>≤0.025</td>\n",
       "      <td>≤0.030</td>\n",
       "      <td>≤0.30</td>\n",
       "      <td>...</td>\n",
       "      <td>27J at -20°C</td>\n",
       "      <td>NaN</td>\n",
       "      <td>NaN</td>\n",
       "      <td>Standard Specifications</td>\n",
       "      <td>Thermomechanically rolled steels</td>\n",
       "      <td>High Strength Steel</td>\n",
       "      <td>NaN</td>\n",
       "      <td>NaN</td>\n",
       "      <td>S460</td>\n",
       "      <td>M</td>\n",
       "    </tr>\n",
       "  </tbody>\n",
       "</table>\n",
       "<p>5 rows × 36 columns</p>\n",
       "</div>"
      ],
      "text/plain": [
       "  Grade/Material  UNS_No  Steel_No        Standards Carbon (C) Manganese (Mn)  \\\n",
       "0         S235JR     NaN       NaN  EN 10025-2:2019      ≤0.17          ≤1.40   \n",
       "1         S275JR     NaN       NaN  EN 10025-2:2019      ≤0.21          ≤1.50   \n",
       "2         S355JR     NaN       NaN  EN 10025-2:2019      ≤0.24          ≤1.60   \n",
       "3          S420M     NaN       NaN  EN 10025-3:2019      ≤0.20      1.00-1.70   \n",
       "4          S460M     NaN       NaN  EN 10025-3:2019      ≤0.20      1.00-1.70   \n",
       "\n",
       "  Silicon (Si) Sulfur (S) Phosphorus (P) Chromium (Cr)  ...  \\\n",
       "0        ≤0.40     ≤0.035         ≤0.035           NaN  ...   \n",
       "1        ≤0.40     ≤0.035         ≤0.035           NaN  ...   \n",
       "2        ≤0.55     ≤0.035         ≤0.035           NaN  ...   \n",
       "3        ≤0.50     ≤0.025         ≤0.030         ≤0.30  ...   \n",
       "4        ≤0.50     ≤0.025         ≤0.030         ≤0.30  ...   \n",
       "\n",
       "  Impact toughness (Charpy V-notch) Fatigue limit Creep resistance  \\\n",
       "0                       27J at 20°C           NaN              NaN   \n",
       "1                       27J at 20°C           NaN              NaN   \n",
       "2                       27J at 20°C           NaN              NaN   \n",
       "3                      27J at -20°C           NaN              NaN   \n",
       "4                      27J at -20°C           NaN              NaN   \n",
       "\n",
       "              Source_Pages                       Application  \\\n",
       "0  Standard Specifications         General structural steels   \n",
       "1  Standard Specifications         General structural steels   \n",
       "2  Standard Specifications         General structural steels   \n",
       "3  Standard Specifications  Thermomechanically rolled steels   \n",
       "4  Standard Specifications  Thermomechanically rolled steels   \n",
       "\n",
       "              Category Nb + V + Ti (Others) Coating grade_base grade_suffix  \n",
       "0     Structural Steel                  NaN     NaN       S235           JR  \n",
       "1     Structural Steel                  NaN     NaN       S275           JR  \n",
       "2     Structural Steel                  NaN     NaN       S355           JR  \n",
       "3  High Strength Steel                  NaN     NaN       S420            M  \n",
       "4  High Strength Steel                  NaN     NaN       S460            M  \n",
       "\n",
       "[5 rows x 36 columns]"
      ]
     },
     "execution_count": 16,
     "metadata": {},
     "output_type": "execute_result"
    }
   ],
   "source": [
    "df2.head(5)"
   ]
  },
  {
   "cell_type": "code",
   "execution_count": 17,
   "id": "bc7ac990",
   "metadata": {},
   "outputs": [
    {
     "name": "stdout",
     "output_type": "stream",
     "text": [
      "\n",
      "Column: Carbon (C)\n",
      "['≤0.17' '≤0.21' '≤0.24' '≤0.20' '≤0.12']\n",
      "\n",
      "Column: Manganese (Mn)\n",
      "['≤1.40' '≤1.50' '≤1.60' '1.00-1.70' '≤1.70']\n",
      "\n",
      "Column: Silicon (Si)\n",
      "['≤0.40' '≤0.55' '≤0.50' '≤0.60' '0.10-0.50']\n",
      "\n",
      "Column: Sulfur (S)\n",
      "['≤0.035' '≤0.025' '≤0.015' '≤0.045' '≤0.030']\n",
      "\n",
      "Column: Phosphorus (P)\n",
      "['≤0.035' '≤0.030' '≤0.025' '≤0.045' '≤0.120']\n",
      "\n",
      "Column: Chromium (Cr)\n",
      "['≤0.30' '≤0.50' '≤0.40' '≤0.60' '≤1.40']\n",
      "\n",
      "Column: Nickel (Ni)\n",
      "['≤0.50' '≤1.00' '≤1.50' '≤2.50' '1.40-1.80']\n",
      "\n",
      "Column: Molybdenum (Mo)\n",
      "['≤0.10' '≤0.30' '≤0.20' '≤0.25' '≤0.60']\n",
      "\n",
      "Column: Vanadium (V)\n",
      "['≤0.20' '0.70-1.20' '≤0.30' '0.80-1.20' '≤0.02']\n",
      "\n",
      "Column: Copper (Cu)\n",
      "['3.0-5.0']\n",
      "\n",
      "Column: Aluminum (Al)\n",
      "['≥0.015' '≥0.010' '0.020-0.070' '0.015-0.070' '0.020-0.060']\n",
      "\n",
      "Column: Titanium (Ti)\n",
      "['≤0.15' '0.010-0.050' '5×C-0.70' '0.020-0.050']\n",
      "\n",
      "Column: Niobium (Nb)\n",
      "['≤0.09' '0.015-0.050' '0.15-0.45' '≤0.05']\n",
      "\n",
      "Column: Boron (B)\n",
      "['≤0.005' '0.0008-0.0050']\n",
      "\n",
      "Column: Nitrogen (N)\n",
      "['≤0.012' '≤0.015' '≤0.10' '≤0.11' '0.08-0.20']\n",
      "\n",
      "Column: Tensile strength (Rm)\n",
      "['360-510 MPa' '410-560 MPa' '470-630 MPa' '520-680 MPa' '540-720 MPa']\n",
      "\n",
      "Column: Yield strength (Re or Rp0.2)\n",
      "['≥235 MPa' '≥275 MPa' '≥355 MPa' '≥420 MPa' '≥460 MPa']\n",
      "\n",
      "Column: Elongation (A%)\n",
      "['≥26%' '≥23%' '≥22%' '≥19%' '≥17%']\n",
      "\n",
      "Column: Hardness (HB, HV, HRC)\n",
      "['370-430 HB' '470-530 HB' '60-62 HRC' '54-58 HRC' '58-62 HRC']\n",
      "\n",
      "Column: Impact toughness (Charpy V-notch)\n",
      "['27J at 20°C' '27J at -20°C' '≥35J at -20°C' '≥27J at 20°C'\n",
      " '40J at -20°C']\n",
      "\n",
      "Column: Nb + V + Ti (Others)\n",
      "['≤0.22']\n"
     ]
    }
   ],
   "source": [
    "# Check numerical columns in df2 that might contain ranges, ignore the one with not null count 0 \n",
    "numeric_cols = ['Carbon (C)', 'Manganese (Mn)', 'Silicon (Si)', 'Sulfur (S)', \n",
    "               'Phosphorus (P)', 'Chromium (Cr)', 'Nickel (Ni)', 'Molybdenum (Mo)',\n",
    "               'Vanadium (V)', 'Copper (Cu)',\n",
    "               'Aluminum (Al)', 'Titanium (Ti)', 'Niobium (Nb)', 'Boron (B)', \n",
    "               'Nitrogen (N)', 'Tensile strength (Rm)', 'Yield strength (Re or Rp0.2)',\n",
    "               'Elongation (A%)', 'Hardness (HB, HV, HRC)',\n",
    "               'Impact toughness (Charpy V-notch)', \"Nb + V + Ti (Others)\"\n",
    "]\n",
    "\n",
    "for col in numeric_cols: \n",
    "    if col in df2.columns:\n",
    "        print(f\"\\nColumn: {col}\")\n",
    "        # Get non-null values\n",
    "        sample_values = df2[col].dropna().unique()[:5]\n",
    "        print(sample_values)"
   ]
  },
  {
   "cell_type": "markdown",
   "id": "52289a28",
   "metadata": {},
   "source": [
    "Parse Range Strings:\n",
    "   - Handle different formats: \n",
    "     - \"≤X\" (upper bound)\n",
    "     - \"≥X\" (lower bound)\n",
    "     - \"X-Y\" (range)\n",
    "     - Values with units (MPa, %, HB, HRC)\n",
    "\n",
    "Create columns for all chemical element columns + Tensile strength, Yield strength, Elongation, Hardness, Nb+V+Ti:\n",
    "   - `_min`: Minimum value (or the value itself for lower bounds)\n",
    "   - `_max`: Maximum value (or the value itself for upper bounds)\n",
    "   - `_mid`: Middle value for ranges\n",
    "   - `_units`: Units extracted from the value (MPa, %, HB, etc.)\n",
    "   \n",
    "Special cases:\n",
    "- '5×C-0.70' in Titanium (and maybe other) \n",
    "  - check if coulmn, it will bve in _formula\n",
    "  - if Carbon (mentioned C) is available in the same row, compute a derived _max value using that Carbon (usually the max bound).\n",
    "  - if the result is negative, replace with 0.\n",
    "\n",
    "- Impact toughness (Charpy V-notch):\n",
    "  - 27J at 20°C: split in 27 `_mid` + `_unit` J + `_tempC` (20)\n",
    "\n",
    "- trailing tags like (annealed) → _additional.\n",
    "\n",
    "\n",
    "Different coulumns will have slightly different handling, I dont want to create meaningless columns with NaNs."
   ]
  },
  {
   "cell_type": "code",
   "execution_count": 18,
   "id": "db851ae4",
   "metadata": {},
   "outputs": [],
   "source": [
    "from utils_boundaries import expand_specs"
   ]
  },
  {
   "cell_type": "code",
   "execution_count": 19,
   "id": "514bdc22",
   "metadata": {},
   "outputs": [],
   "source": [
    "skip_cols = {\n",
    "    \"Grade/Material\",\n",
    "    \"UNS_No\",\n",
    "    \"Steel_No\",\n",
    "    \"Standards\",\n",
    "    \"Coating\",\n",
    "    \"Fatigue limit\",\n",
    "    \"Creep resistance\",\n",
    "    \"Source_Pages\",\n",
    "    \"Application\",\n",
    "    \"Category\",\n",
    "    \"grade_base\",\n",
    "    \"grade_suffix\",\n",
    "}\n",
    "\n",
    "unit_cols = {\n",
    "    \"Tensile strength (Rm)\",\n",
    "    \"Yield strength (Re or Rp0.2)\",\n",
    "    \"Elongation (A%)\",\n",
    "    \"Reduction of area (Z%)\",\n",
    "    \"Hardness (HB, HV, HRC)\",\n",
    "    \"Impact toughness (Charpy V-notch)\",\n",
    "}\n",
    "temp_cols = {\"Impact toughness (Charpy V-notch)\"}\n",
    "formula_cols = {\"Titanium (Ti)\"}                # only Ti\n",
    "single_mid_only_cols = {\"Impact toughness (Charpy V-notch)\"}\n",
    "\n",
    "parsed = expand_specs(\n",
    "    df2,\n",
    "    temp_cols=temp_cols,\n",
    "    unit_cols=unit_cols,\n",
    "    formula_cols=formula_cols,\n",
    "    single_mid_only_cols=single_mid_only_cols,\n",
    "    skip_cols=skip_cols,\n",
    ")\n",
    "parsed.to_csv(\"expanded_specs.csv\", index=False)"
   ]
  },
  {
   "cell_type": "code",
   "execution_count": 21,
   "id": "837dafc9",
   "metadata": {},
   "outputs": [
    {
     "data": {
      "text/plain": [
       "(['id',\n",
       "  'grade',\n",
       "  'grade_suffix',\n",
       "  'coating',\n",
       "  'finish',\n",
       "  'surface_type',\n",
       "  'surface_protection',\n",
       "  'form',\n",
       "  'thickness_min',\n",
       "  'thickness_max',\n",
       "  'width_min',\n",
       "  'width_max',\n",
       "  'length_min',\n",
       "  'height_min',\n",
       "  'height_max',\n",
       "  'weight_min',\n",
       "  'weight_max',\n",
       "  'inner_diameter_min',\n",
       "  'inner_diameter_max',\n",
       "  'outer_diameter_min',\n",
       "  'outer_diameter_max',\n",
       "  'yield_strength_min',\n",
       "  'yield_strength_max',\n",
       "  'tensile_strength_min',\n",
       "  'tensile_strength_max',\n",
       "  'grade_base'],\n",
       " ['Grade/Material',\n",
       "  'UNS_No',\n",
       "  'Steel_No',\n",
       "  'Standards',\n",
       "  'Carbon (C)',\n",
       "  'Manganese (Mn)',\n",
       "  'Silicon (Si)',\n",
       "  'Sulfur (S)',\n",
       "  'Phosphorus (P)',\n",
       "  'Chromium (Cr)',\n",
       "  'Nickel (Ni)',\n",
       "  'Molybdenum (Mo)',\n",
       "  'Vanadium (V)',\n",
       "  'Tungsten (W)',\n",
       "  'Cobalt (Co)',\n",
       "  'Copper (Cu)',\n",
       "  'Aluminum (Al)',\n",
       "  'Titanium (Ti)',\n",
       "  'Niobium (Nb)',\n",
       "  'Boron (B)',\n",
       "  'Nitrogen (N)',\n",
       "  'Tensile strength (Rm)',\n",
       "  'Yield strength (Re or Rp0.2)',\n",
       "  'Elongation (A%)',\n",
       "  'Reduction of area (Z%)',\n",
       "  'Hardness (HB, HV, HRC)',\n",
       "  'Impact toughness (Charpy V-notch)',\n",
       "  'Fatigue limit',\n",
       "  'Creep resistance',\n",
       "  'Source_Pages',\n",
       "  'Application',\n",
       "  'Category',\n",
       "  'Nb + V + Ti (Others)',\n",
       "  'Coating',\n",
       "  'grade_base',\n",
       "  'grade_suffix'])"
      ]
     },
     "execution_count": 21,
     "metadata": {},
     "output_type": "execute_result"
    }
   ],
   "source": [
    "df1.columns.to_list(), df2.columns.to_list()"
   ]
  },
  {
   "cell_type": "markdown",
   "id": "de111dea",
   "metadata": {},
   "source": [
    "### Join"
   ]
  },
  {
   "cell_type": "markdown",
   "id": "bba89f49",
   "metadata": {},
   "source": [
    "I assume full grade names are now normalized (capitalized where needed, not everywhere!) and now ready for join.\n",
    "\n",
    "In df1 we had 59 missing values for \"grade\" (out of 1000 total rows) and in df2 we have only 175 non null object ->>> so we are going to repeatedly extend values from df by values from df2 -> left join.\n",
    "\n",
    "But before that we have to work with missing values in df1 -> I will just label them as NaNs and new right columns will consists of NaNs as well."
   ]
  },
  {
   "cell_type": "code",
   "execution_count": 26,
   "id": "1abdaa57",
   "metadata": {},
   "outputs": [
    {
     "name": "stdout",
     "output_type": "stream",
     "text": [
      "Rows missing because grade is NaN in RFQ: 59\n",
      "Rows missing because grade not found in reference: 0\n"
     ]
    }
   ],
   "source": [
    "df1['has_grade'] = df1['grade'].notna()\n",
    "joined_df = pd.merge(\n",
    "    df1,  # RFQ data\n",
    "    df2,  # reference properties\n",
    "    left_on='grade', \n",
    "    right_on='Grade/Material',\n",
    "    how='left',\n",
    "    suffixes=('', '_ref')\n",
    ")\n",
    "\n",
    "no_grade_in_rfq = joined_df[joined_df['grade'].isna()]\n",
    "print(f\"Rows missing because grade is NaN in RFQ: {len(no_grade_in_rfq)}\")\n",
    "no_ref_match = joined_df[joined_df['grade'].notna() & joined_df['Grade/Material'].isna()]\n",
    "print(f\"Rows missing because grade not found in reference: {len(no_ref_match)}\")\n",
    "df1.drop(columns=[\"has_grade\"], inplace=True)"
   ]
  },
  {
   "cell_type": "code",
   "execution_count": 28,
   "id": "2878bc57",
   "metadata": {},
   "outputs": [
    {
     "name": "stdout",
     "output_type": "stream",
     "text": [
      "RFQs with valid grades but no reference match: 0\n"
     ]
    }
   ],
   "source": [
    "\n",
    "joined_df = pd.merge(\n",
    "    df1[df1['grade'].notna()], # no copy with a mask creation, no additional memory used\n",
    "    df2,\n",
    "    left_on='grade',\n",
    "    right_on='Grade/Material',\n",
    "    how='left',\n",
    "    suffixes=('', '_ref')\n",
    ")\n",
    "missing_matches = joined_df[joined_df['Grade/Material'].isna()]\n",
    "print(f\"RFQs with valid grades but no reference match: {len(missing_matches)}\")\n",
    "joined_df.to_csv(\"joined_full.csv\", index=False)"
   ]
  },
  {
   "cell_type": "markdown",
   "id": "9771b67d",
   "metadata": {},
   "source": [
    "So we have successfully joined two tables without loosing information or missmatching it!"
   ]
  },
  {
   "cell_type": "markdown",
   "id": "a2c5e960",
   "metadata": {},
   "source": []
  }
 ],
 "metadata": {
  "kernelspec": {
   "display_name": "llmvenv",
   "language": "python",
   "name": "python3"
  },
  "language_info": {
   "codemirror_mode": {
    "name": "ipython",
    "version": 3
   },
   "file_extension": ".py",
   "mimetype": "text/x-python",
   "name": "python",
   "nbconvert_exporter": "python",
   "pygments_lexer": "ipython3",
   "version": "3.11.4"
  }
 },
 "nbformat": 4,
 "nbformat_minor": 5
}

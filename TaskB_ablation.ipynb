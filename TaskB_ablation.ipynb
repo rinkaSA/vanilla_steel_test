{
 "cells": [
  {
   "cell_type": "markdown",
   "metadata": {},
   "source": [
    "# Task B — Ablation Analysis\n",
    "\n",
    "This notebook evaluates how similarity rankings change under different scoring configurations (weights and multipliers).\n",
    "It uses the joined RFQ + reference dataset produced in Task B."
   ]
  },
  {
   "cell_type": "code",
   "execution_count": 2,
   "metadata": {},
   "outputs": [],
   "source": [
    "import pandas as pd\n",
    "from utils.similarity_score import DEFAULT_CONFIG, run_topk_with_config, compare_topk\n",
    "import numpy as np\n",
    "import os\n",
    "\n",
    "\n",
    "joined_df = pd.read_csv(\"joined_all.csv\")\n",
    "OUT = \"ablation_out\""
   ]
  },
  {
   "cell_type": "markdown",
   "metadata": {},
   "source": [
    "## Define configurations\n",
    "- baseline: DEFAULT_CONFIG (w_dim=0.60, w_cat=0.30, w_cp=0.10)\n",
    "- dims_only: dimensions only (all other weights 0)\n",
    "- cat_only: categorical only\n",
    "- cp_only: mechanical proximity only (Rm_mid)\n",
    "- grade_dom: final ordering mostly via grade/category multipliers (tiny weights)"
   ]
  },
  {
   "cell_type": "code",
   "execution_count": 3,
   "metadata": {},
   "outputs": [
    {
     "data": {
      "text/plain": [
       "{'baseline': 2832,\n",
       " 'dims_only': 2832,\n",
       " 'cat_only': 2832,\n",
       " 'cp_only': 2832,\n",
       " 'grade_dom': 2832}"
      ]
     },
     "execution_count": 3,
     "metadata": {},
     "output_type": "execute_result"
    }
   ],
   "source": [
    "configs = {\n",
    "    'baseline': {},\n",
    "    'dims_only': {'w_dim': 1.0, 'w_cat': 0.0, 'w_cp': 0.0},\n",
    "    'cat_only':  {'w_dim': 0.0, 'w_cat': 1.0, 'w_cp': 0.0},\n",
    "    'cp_only':   {'w_dim': 0.0, 'w_cat': 0.0, 'w_cp': 1.0},\n",
    "    'grade_dom': {'w_dim': 1e-6, 'w_cat': 1e-6, 'w_cp': 1e-6},\n",
    "}\n",
    "top_k = 3\n",
    "allow_fallback = True  # allow category fallback with penalty\n",
    "\n",
    "\n",
    "topk_tables = {}\n",
    "for name, cfg in configs.items():\n",
    "    df = run_topk_with_config(joined_df, cfg, name, top_k=top_k, allow_category_fallback=allow_fallback)\n",
    "    topk_tables[name] = df\n",
    "    df.to_csv(f\"{OUT}/top3_{name}.csv\", index=False)\n",
    "\n",
    "{k: len(v) for k, v in topk_tables.items()}"
   ]
  },
  {
   "cell_type": "markdown",
   "metadata": {},
   "source": [
    "## Compare variants to baseline\n",
    "Compute per-query comparisons and aggregate summary stats."
   ]
  },
  {
   "cell_type": "code",
   "execution_count": 4,
   "metadata": {},
   "outputs": [
    {
     "data": {
      "text/html": [
       "<div>\n",
       "<style scoped>\n",
       "    .dataframe tbody tr th:only-of-type {\n",
       "        vertical-align: middle;\n",
       "    }\n",
       "\n",
       "    .dataframe tbody tr th {\n",
       "        vertical-align: top;\n",
       "    }\n",
       "\n",
       "    .dataframe thead th {\n",
       "        text-align: right;\n",
       "    }\n",
       "</style>\n",
       "<table border=\"1\" class=\"dataframe\">\n",
       "  <thead>\n",
       "    <tr style=\"text-align: right;\">\n",
       "      <th></th>\n",
       "      <th>config</th>\n",
       "      <th>mean_jaccard@k</th>\n",
       "      <th>top1_changed_pct</th>\n",
       "      <th>mean_rank_change</th>\n",
       "      <th>avg_added</th>\n",
       "      <th>avg_removed</th>\n",
       "    </tr>\n",
       "  </thead>\n",
       "  <tbody>\n",
       "    <tr>\n",
       "      <th>3</th>\n",
       "      <td>grade_dom</td>\n",
       "      <td>0.699274</td>\n",
       "      <td>18.703507</td>\n",
       "      <td>0.239837</td>\n",
       "      <td>0.699256</td>\n",
       "      <td>0.697131</td>\n",
       "    </tr>\n",
       "    <tr>\n",
       "      <th>0</th>\n",
       "      <td>dims_only</td>\n",
       "      <td>0.642012</td>\n",
       "      <td>24.654623</td>\n",
       "      <td>0.248759</td>\n",
       "      <td>0.855473</td>\n",
       "      <td>0.854410</td>\n",
       "    </tr>\n",
       "    <tr>\n",
       "      <th>2</th>\n",
       "      <td>cp_only</td>\n",
       "      <td>0.514984</td>\n",
       "      <td>34.643996</td>\n",
       "      <td>0.307007</td>\n",
       "      <td>1.215728</td>\n",
       "      <td>1.213603</td>\n",
       "    </tr>\n",
       "    <tr>\n",
       "      <th>1</th>\n",
       "      <td>cat_only</td>\n",
       "      <td>0.418119</td>\n",
       "      <td>47.715197</td>\n",
       "      <td>0.434532</td>\n",
       "      <td>1.506908</td>\n",
       "      <td>1.501594</td>\n",
       "    </tr>\n",
       "  </tbody>\n",
       "</table>\n",
       "</div>"
      ],
      "text/plain": [
       "      config  mean_jaccard@k  top1_changed_pct  mean_rank_change  avg_added  \\\n",
       "3  grade_dom        0.699274         18.703507          0.239837   0.699256   \n",
       "0  dims_only        0.642012         24.654623          0.248759   0.855473   \n",
       "2    cp_only        0.514984         34.643996          0.307007   1.215728   \n",
       "1   cat_only        0.418119         47.715197          0.434532   1.506908   \n",
       "\n",
       "   avg_removed  \n",
       "3     0.697131  \n",
       "0     0.854410  \n",
       "2     1.213603  \n",
       "1     1.501594  "
      ]
     },
     "execution_count": 4,
     "metadata": {},
     "output_type": "execute_result"
    }
   ],
   "source": [
    "\n",
    "baseline = topk_tables['baseline']\n",
    "summ_rows = []\n",
    "\n",
    "for name, tbl in topk_tables.items():\n",
    "    if name == 'baseline':\n",
    "        continue\n",
    "    comp = compare_topk(baseline, tbl, k=top_k)\n",
    "    comp_path = os.path.join(OUT, f\"ablation_compare_baseline_vs_{name}.csv\")\n",
    "    comp.to_csv(comp_path, index=False)\n",
    "    summ = {\n",
    "        'config': name,\n",
    "        'mean_jaccard@k': comp['jaccard_k'].mean(),\n",
    "        'top1_changed_pct': 100 * (1 - comp['top1_same'].mean()),\n",
    "        'mean_rank_change': comp['mean_rank_change'].mean(),\n",
    "        'avg_added': comp['added'].mean(),\n",
    "        'avg_removed': comp['removed'].mean(),\n",
    "    }\n",
    "    summ_rows.append(summ)\n",
    "summary = pd.DataFrame(summ_rows)\n",
    "summary_path = os.path.join(OUT, \"ablation_summary.csv\")\n",
    "summary.to_csv(summary_path, index=False)\n",
    "summary.sort_values('mean_jaccard@k', ascending=False)\n"
   ]
  },
  {
   "cell_type": "code",
   "execution_count": null,
   "id": "c63fa203",
   "metadata": {},
   "outputs": [],
   "source": []
  }
 ],
 "metadata": {
  "kernelspec": {
   "display_name": "dataenv",
   "language": "python",
   "name": "python3"
  },
  "language_info": {
   "codemirror_mode": {
    "name": "ipython",
    "version": 3
   },
   "file_extension": ".py",
   "mimetype": "text/x-python",
   "name": "python",
   "nbconvert_exporter": "python",
   "pygments_lexer": "ipython3",
   "version": "3.11.4"
  }
 },
 "nbformat": 4,
 "nbformat_minor": 5
}
